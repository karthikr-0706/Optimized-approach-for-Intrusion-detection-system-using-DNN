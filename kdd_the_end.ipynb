{
  "cells": [
    {
      "cell_type": "markdown",
      "metadata": {
        "id": "nLGJU9F1BMU8"
      },
      "source": [
        "# Import Libraries"
      ]
    },
    {
      "cell_type": "code",
      "execution_count": 1,
      "metadata": {
        "id": "D9Qru7WHBMU9"
      },
      "outputs": [],
      "source": [
        "# import all libraries\n",
        "import pandas as pd\n",
        "import numpy as np\n",
        "import matplotlib.pyplot as plt\n",
        "from sklearn.decomposition import PCA\n",
        "from sklearn.preprocessing import StandardScaler\n",
        "from sklearn.tree import DecisionTreeClassifier\n",
        "from sklearn import tree\n",
        "from sklearn.feature_selection import RFE\n",
        "from sklearn.model_selection import train_test_split\n",
        "from sklearn.metrics import accuracy_score\n",
        "from sklearn.metrics import mean_squared_error\n",
        "from sklearn.metrics import mean_absolute_error\n",
        "from sklearn.metrics import r2_score\n",
        "from keras.preprocessing import sequence\n",
        "from keras.models import Sequential\n",
        "from keras.layers import Dense, Dropout, Activation, Embedding\n",
        "from keras.layers import LSTM, SimpleRNN, GRU\n"
      ]
    },
    {
      "cell_type": "markdown",
      "metadata": {
        "id": "3O0YcDgiBMU-"
      },
      "source": [
        "# Load Datset-KDD"
      ]
    },
    {
      "cell_type": "code",
      "execution_count": 2,
      "metadata": {
        "colab": {
          "base_uri": "https://localhost:8080/"
        },
        "id": "dI4jbgHRBMU-",
        "outputId": "28e7bfc1-d454-4c1d-fb09-1f7231bd4b36"
      },
      "outputs": [
        {
          "output_type": "stream",
          "name": "stdout",
          "text": [
            "          id  duration protocol_type  src_bytes  dst_bytes  land  \\\n",
            "0          1         0           tcp          0          0     0   \n",
            "1          2         0           tcp          0          0     0   \n",
            "2          3         2           tcp      12983          0     0   \n",
            "3          4         0          icmp         20          0     0   \n",
            "4          5         1           tcp          0         15     0   \n",
            "...      ...       ...           ...        ...        ...   ...   \n",
            "22539  22540         0           tcp        794        333     0   \n",
            "22540  22541         0           tcp        317        938     0   \n",
            "22541  22542         0           tcp      54540       8314     0   \n",
            "22542  22543         0           udp         42         42     0   \n",
            "22543  22544         0           tcp          0          0     0   \n",
            "\n",
            "       wrong_fragment  urgent  hot  num_failed_logins  ...  \\\n",
            "0                   0       0    0                  0  ...   \n",
            "1                   0       0    0                  0  ...   \n",
            "2                   0       0    0                  0  ...   \n",
            "3                   0       0    0                  0  ...   \n",
            "4                   0       0    0                  0  ...   \n",
            "...               ...     ...  ...                ...  ...   \n",
            "22539               0       0    0                  0  ...   \n",
            "22540               0       0    0                  0  ...   \n",
            "22541               0       0    2                  0  ...   \n",
            "22542               0       0    0                  0  ...   \n",
            "22543               0       0    0                  0  ...   \n",
            "\n",
            "       dst_host_srv_count  dst_host_same_srv_rate  dst_host_diff_srv_rate  \\\n",
            "0                      10                    0.04                    0.06   \n",
            "1                       1                    0.00                    0.06   \n",
            "2                      86                    0.61                    0.04   \n",
            "3                      57                    1.00                    0.00   \n",
            "4                      86                    0.31                    0.17   \n",
            "...                   ...                     ...                     ...   \n",
            "22539                 141                    0.72                    0.06   \n",
            "22540                 255                    1.00                    0.00   \n",
            "22541                 255                    1.00                    0.00   \n",
            "22542                 252                    0.99                    0.01   \n",
            "22543                  21                    0.08                    0.03   \n",
            "\n",
            "       dst_host_same_src_port_rate  dst_host_srv_diff_host_rate  \\\n",
            "0                             0.00                         0.00   \n",
            "1                             0.00                         0.00   \n",
            "2                             0.61                         0.02   \n",
            "3                             1.00                         0.28   \n",
            "4                             0.03                         0.02   \n",
            "...                            ...                          ...   \n",
            "22539                         0.01                         0.01   \n",
            "22540                         0.01                         0.01   \n",
            "22541                         0.00                         0.00   \n",
            "22542                         0.00                         0.00   \n",
            "22543                         0.00                         0.00   \n",
            "\n",
            "       dst_host_serror_rate  dst_host_srv_serror_rate  dst_host_rerror_rate  \\\n",
            "0                      0.00                       0.0                  1.00   \n",
            "1                      0.00                       0.0                  1.00   \n",
            "2                      0.00                       0.0                  0.00   \n",
            "3                      0.00                       0.0                  0.00   \n",
            "4                      0.00                       0.0                  0.83   \n",
            "...                     ...                       ...                   ...   \n",
            "22539                  0.01                       0.0                  0.00   \n",
            "22540                  0.01                       0.0                  0.00   \n",
            "22541                  0.00                       0.0                  0.07   \n",
            "22542                  0.00                       0.0                  0.00   \n",
            "22543                  0.00                       0.0                  0.44   \n",
            "\n",
            "       dst_host_srv_rerror_rate    class  \n",
            "0                          1.00  anomaly  \n",
            "1                          1.00  anomaly  \n",
            "2                          0.00   normal  \n",
            "3                          0.00  anomaly  \n",
            "4                          0.71  anomaly  \n",
            "...                         ...      ...  \n",
            "22539                      0.00   normal  \n",
            "22540                      0.00   normal  \n",
            "22541                      0.07  anomaly  \n",
            "22542                      0.00   normal  \n",
            "22543                      1.00  anomaly  \n",
            "\n",
            "[22544 rows x 41 columns]\n",
            "          id  duration  protocol_type  src_bytes  dst_bytes  land  \\\n",
            "0          1         0              1          0          0     0   \n",
            "1          2         0              1          0          0     0   \n",
            "2          3         2              1      12983          0     0   \n",
            "3          4         0              2         20          0     0   \n",
            "4          5         1              1          0         15     0   \n",
            "...      ...       ...            ...        ...        ...   ...   \n",
            "22539  22540         0              1        794        333     0   \n",
            "22540  22541         0              1        317        938     0   \n",
            "22541  22542         0              1      54540       8314     0   \n",
            "22542  22543         0              0         42         42     0   \n",
            "22543  22544         0              1          0          0     0   \n",
            "\n",
            "       wrong_fragment  urgent  hot  num_failed_logins  ...  \\\n",
            "0                   0       0    0                  0  ...   \n",
            "1                   0       0    0                  0  ...   \n",
            "2                   0       0    0                  0  ...   \n",
            "3                   0       0    0                  0  ...   \n",
            "4                   0       0    0                  0  ...   \n",
            "...               ...     ...  ...                ...  ...   \n",
            "22539               0       0    0                  0  ...   \n",
            "22540               0       0    0                  0  ...   \n",
            "22541               0       0    2                  0  ...   \n",
            "22542               0       0    0                  0  ...   \n",
            "22543               0       0    0                  0  ...   \n",
            "\n",
            "       dst_host_srv_count  dst_host_same_srv_rate  dst_host_diff_srv_rate  \\\n",
            "0                      10                    0.04                    0.06   \n",
            "1                       1                    0.00                    0.06   \n",
            "2                      86                    0.61                    0.04   \n",
            "3                      57                    1.00                    0.00   \n",
            "4                      86                    0.31                    0.17   \n",
            "...                   ...                     ...                     ...   \n",
            "22539                 141                    0.72                    0.06   \n",
            "22540                 255                    1.00                    0.00   \n",
            "22541                 255                    1.00                    0.00   \n",
            "22542                 252                    0.99                    0.01   \n",
            "22543                  21                    0.08                    0.03   \n",
            "\n",
            "       dst_host_same_src_port_rate  dst_host_srv_diff_host_rate  \\\n",
            "0                             0.00                         0.00   \n",
            "1                             0.00                         0.00   \n",
            "2                             0.61                         0.02   \n",
            "3                             1.00                         0.28   \n",
            "4                             0.03                         0.02   \n",
            "...                            ...                          ...   \n",
            "22539                         0.01                         0.01   \n",
            "22540                         0.01                         0.01   \n",
            "22541                         0.00                         0.00   \n",
            "22542                         0.00                         0.00   \n",
            "22543                         0.00                         0.00   \n",
            "\n",
            "       dst_host_serror_rate  dst_host_srv_serror_rate  dst_host_rerror_rate  \\\n",
            "0                      0.00                       0.0                  1.00   \n",
            "1                      0.00                       0.0                  1.00   \n",
            "2                      0.00                       0.0                  0.00   \n",
            "3                      0.00                       0.0                  0.00   \n",
            "4                      0.00                       0.0                  0.83   \n",
            "...                     ...                       ...                   ...   \n",
            "22539                  0.01                       0.0                  0.00   \n",
            "22540                  0.01                       0.0                  0.00   \n",
            "22541                  0.00                       0.0                  0.07   \n",
            "22542                  0.00                       0.0                  0.00   \n",
            "22543                  0.00                       0.0                  0.44   \n",
            "\n",
            "       dst_host_srv_rerror_rate  class  \n",
            "0                          1.00      1  \n",
            "1                          1.00      1  \n",
            "2                          0.00      0  \n",
            "3                          0.00      1  \n",
            "4                          0.71      1  \n",
            "...                         ...    ...  \n",
            "22539                      0.00      0  \n",
            "22540                      0.00      0  \n",
            "22541                      0.07      1  \n",
            "22542                      0.00      0  \n",
            "22543                      1.00      1  \n",
            "\n",
            "[22544 rows x 41 columns]\n"
          ]
        },
        {
          "output_type": "stream",
          "name": "stderr",
          "text": [
            "<ipython-input-2-398427037593>:5: FutureWarning: Downcasting behavior in `replace` is deprecated and will be removed in a future version. To retain the old behavior, explicitly call `result.infer_objects(copy=False)`. To opt-in to the future behavior, set `pd.set_option('future.no_silent_downcasting', True)`\n",
            "  df['class'] = df['class'].replace(['normal'], 0)\n",
            "<ipython-input-2-398427037593>:9: FutureWarning: Downcasting behavior in `replace` is deprecated and will be removed in a future version. To retain the old behavior, explicitly call `result.infer_objects(copy=False)`. To opt-in to the future behavior, set `pd.set_option('future.no_silent_downcasting', True)`\n",
            "  df['protocol_type'] = df['protocol_type'].replace(['icmp'], 2)\n"
          ]
        }
      ],
      "source": [
        "df = pd.read_csv('kdd.csv',header=0)\n",
        "df=df.drop(['service','flag'], axis=1)\n",
        "print(df)\n",
        "df['class'] = df['class'].replace(['anomaly'], 1)\n",
        "df['class'] = df['class'].replace(['normal'], 0)\n",
        "\n",
        "df['protocol_type'] = df['protocol_type'].replace(['udp'], 0)\n",
        "df['protocol_type'] = df['protocol_type'].replace(['tcp'], 1)\n",
        "df['protocol_type'] = df['protocol_type'].replace(['icmp'], 2)\n",
        "\n",
        "print(df)\n"
      ]
    },
    {
      "cell_type": "markdown",
      "metadata": {
        "id": "P9SJ0nOrBMU_"
      },
      "source": [
        "# Assign X and Y"
      ]
    },
    {
      "cell_type": "code",
      "execution_count": 3,
      "metadata": {
        "colab": {
          "base_uri": "https://localhost:8080/"
        },
        "id": "eUl2GgvLBMU_",
        "outputId": "65288809-61aa-4027-865c-99513ab1e328"
      },
      "outputs": [
        {
          "output_type": "stream",
          "name": "stdout",
          "text": [
            "          id  duration  protocol_type  src_bytes  dst_bytes  land  \\\n",
            "0          1         0              1          0          0     0   \n",
            "1          2         0              1          0          0     0   \n",
            "2          3         2              1      12983          0     0   \n",
            "3          4         0              2         20          0     0   \n",
            "4          5         1              1          0         15     0   \n",
            "...      ...       ...            ...        ...        ...   ...   \n",
            "22539  22540         0              1        794        333     0   \n",
            "22540  22541         0              1        317        938     0   \n",
            "22541  22542         0              1      54540       8314     0   \n",
            "22542  22543         0              0         42         42     0   \n",
            "22543  22544         0              1          0          0     0   \n",
            "\n",
            "       wrong_fragment  urgent  hot  num_failed_logins  ...  dst_host_count  \\\n",
            "0                   0       0    0                  0  ...             255   \n",
            "1                   0       0    0                  0  ...             255   \n",
            "2                   0       0    0                  0  ...             134   \n",
            "3                   0       0    0                  0  ...               3   \n",
            "4                   0       0    0                  0  ...              29   \n",
            "...               ...     ...  ...                ...  ...             ...   \n",
            "22539               0       0    0                  0  ...             100   \n",
            "22540               0       0    0                  0  ...             197   \n",
            "22541               0       0    2                  0  ...             255   \n",
            "22542               0       0    0                  0  ...             255   \n",
            "22543               0       0    0                  0  ...             255   \n",
            "\n",
            "       dst_host_srv_count  dst_host_same_srv_rate  dst_host_diff_srv_rate  \\\n",
            "0                      10                    0.04                    0.06   \n",
            "1                       1                    0.00                    0.06   \n",
            "2                      86                    0.61                    0.04   \n",
            "3                      57                    1.00                    0.00   \n",
            "4                      86                    0.31                    0.17   \n",
            "...                   ...                     ...                     ...   \n",
            "22539                 141                    0.72                    0.06   \n",
            "22540                 255                    1.00                    0.00   \n",
            "22541                 255                    1.00                    0.00   \n",
            "22542                 252                    0.99                    0.01   \n",
            "22543                  21                    0.08                    0.03   \n",
            "\n",
            "       dst_host_same_src_port_rate  dst_host_srv_diff_host_rate  \\\n",
            "0                             0.00                         0.00   \n",
            "1                             0.00                         0.00   \n",
            "2                             0.61                         0.02   \n",
            "3                             1.00                         0.28   \n",
            "4                             0.03                         0.02   \n",
            "...                            ...                          ...   \n",
            "22539                         0.01                         0.01   \n",
            "22540                         0.01                         0.01   \n",
            "22541                         0.00                         0.00   \n",
            "22542                         0.00                         0.00   \n",
            "22543                         0.00                         0.00   \n",
            "\n",
            "       dst_host_serror_rate  dst_host_srv_serror_rate  dst_host_rerror_rate  \\\n",
            "0                      0.00                       0.0                  1.00   \n",
            "1                      0.00                       0.0                  1.00   \n",
            "2                      0.00                       0.0                  0.00   \n",
            "3                      0.00                       0.0                  0.00   \n",
            "4                      0.00                       0.0                  0.83   \n",
            "...                     ...                       ...                   ...   \n",
            "22539                  0.01                       0.0                  0.00   \n",
            "22540                  0.01                       0.0                  0.00   \n",
            "22541                  0.00                       0.0                  0.07   \n",
            "22542                  0.00                       0.0                  0.00   \n",
            "22543                  0.00                       0.0                  0.44   \n",
            "\n",
            "       dst_host_srv_rerror_rate  \n",
            "0                          1.00  \n",
            "1                          1.00  \n",
            "2                          0.00  \n",
            "3                          0.00  \n",
            "4                          0.71  \n",
            "...                         ...  \n",
            "22539                      0.00  \n",
            "22540                      0.00  \n",
            "22541                      0.07  \n",
            "22542                      0.00  \n",
            "22543                      1.00  \n",
            "\n",
            "[22544 rows x 40 columns]\n"
          ]
        }
      ],
      "source": [
        "X=df.drop(columns=['class'])\n",
        "y=df['class']\n",
        "print(X)\n"
      ]
    },
    {
      "cell_type": "code",
      "execution_count": 4,
      "metadata": {
        "id": "0BXSUbEtBMU_"
      },
      "outputs": [],
      "source": [
        "names = df.head()\n"
      ]
    },
    {
      "cell_type": "markdown",
      "metadata": {
        "id": "CpbZGuP9BMVA"
      },
      "source": [
        "# Feature selection Technique"
      ]
    },
    {
      "cell_type": "code",
      "execution_count": 5,
      "metadata": {
        "colab": {
          "base_uri": "https://localhost:8080/"
        },
        "id": "abVMlhOOBMVA",
        "outputId": "adefb130-81a7-44d3-c910-f5eb6e7ec809"
      },
      "outputs": [
        {
          "output_type": "stream",
          "name": "stdout",
          "text": [
            "[ True  True  True  True  True False  True False False False  True False\n",
            " False False  True  True False False False  True False  True  True False\n",
            " False  True False  True  True  True  True  True  True  True  True  True\n",
            "  True False  True  True]\n",
            "Rank\n",
            "[ 1  1  1  1  1  8  1  7 12  4  1 16  9 11  1  1  6  2 13  1 15  1  1  3\n",
            " 10  1  5  1  1  1  1  1  1  1  1  1  1 14  1  1]\n",
            "Features sorted by their rank:\n",
            "[(1, 'count'), (1, 'diff_srv_rate'), (1, 'dst_bytes'), (1, 'dst_host_count'), (1, 'dst_host_diff_srv_rate'), (1, 'dst_host_rerror_rate'), (1, 'dst_host_same_src_port_rate'), (1, 'dst_host_same_srv_rate'), (1, 'dst_host_serror_rate'), (1, 'dst_host_srv_count'), (1, 'dst_host_srv_diff_host_rate'), (1, 'dst_host_srv_rerror_rate'), (1, 'duration'), (1, 'id'), (1, 'is_host_login'), (1, 'logged_in'), (1, 'num_file_creations'), (1, 'num_root'), (1, 'protocol_type'), (1, 'rerror_rate'), (1, 'same_srv_rate'), (1, 'src_bytes'), (1, 'srv_count'), (1, 'srv_diff_host_rate'), (1, 'wrong_fragment'), (2, 'num_access_files'), (3, 'serror_rate'), (4, 'num_failed_logins'), (5, 'srv_rerror_rate'), (6, 'num_shells'), (7, 'urgent'), (8, 'land'), (9, 'root_shell'), (10, 'srv_serror_rate'), (11, 'su_attempted'), (12, 'hot'), (13, 'num_outbound_cmds'), (14, 'dst_host_srv_serror_rate'), (15, 'is_guest_login'), (16, 'num_compromised')]\n",
            "[(1, 'count'), (1, 'diff_srv_rate'), (1, 'dst_bytes'), (1, 'dst_host_count'), (1, 'dst_host_diff_srv_rate'), (1, 'dst_host_rerror_rate'), (1, 'dst_host_same_src_port_rate'), (1, 'dst_host_same_srv_rate'), (1, 'dst_host_serror_rate'), (1, 'dst_host_srv_count'), (1, 'dst_host_srv_diff_host_rate'), (1, 'dst_host_srv_rerror_rate'), (1, 'duration'), (1, 'id'), (1, 'is_host_login'), (1, 'logged_in'), (1, 'num_file_creations'), (1, 'num_root'), (1, 'protocol_type'), (1, 'rerror_rate'), (1, 'same_srv_rate'), (1, 'src_bytes'), (1, 'srv_count'), (1, 'srv_diff_host_rate'), (1, 'wrong_fragment'), (2, 'num_access_files'), (3, 'serror_rate'), (4, 'num_failed_logins'), (5, 'srv_rerror_rate'), (6, 'num_shells'), (7, 'urgent'), (8, 'land'), (9, 'root_shell'), (10, 'srv_serror_rate'), (11, 'su_attempted'), (12, 'hot'), (13, 'num_outbound_cmds'), (14, 'dst_host_srv_serror_rate'), (15, 'is_guest_login'), (16, 'num_compromised')]\n",
            "['count', 'diff_srv_rate', 'dst_bytes', 'dst_host_count', 'dst_host_diff_srv_rate', 'dst_host_rerror_rate', 'dst_host_same_src_port_rate', 'dst_host_same_srv_rate', 'dst_host_serror_rate', 'dst_host_srv_count', 'dst_host_srv_diff_host_rate', 'dst_host_srv_rerror_rate', 'duration', 'id', 'is_host_login', 'logged_in', 'num_file_creations', 'num_root', 'protocol_type', 'rerror_rate', 'same_srv_rate', 'src_bytes', 'srv_count', 'srv_diff_host_rate', 'wrong_fragment']\n",
            "       count  diff_srv_rate  dst_bytes  dst_host_count  \\\n",
            "0        229           0.06          0             255   \n",
            "1        136           0.06          0             255   \n",
            "2          1           0.00          0             134   \n",
            "3          1           0.00          0               3   \n",
            "4          1           0.00         15              29   \n",
            "...      ...            ...        ...             ...   \n",
            "22539      1           0.00        333             100   \n",
            "22540      2           0.00        938             197   \n",
            "22541      5           0.00       8314             255   \n",
            "22542      4           0.00         42             255   \n",
            "22543      4           1.00          0             255   \n",
            "\n",
            "       dst_host_diff_srv_rate  dst_host_rerror_rate  \\\n",
            "0                        0.06                  1.00   \n",
            "1                        0.06                  1.00   \n",
            "2                        0.04                  0.00   \n",
            "3                        0.00                  0.00   \n",
            "4                        0.17                  0.83   \n",
            "...                       ...                   ...   \n",
            "22539                    0.06                  0.00   \n",
            "22540                    0.00                  0.00   \n",
            "22541                    0.00                  0.07   \n",
            "22542                    0.01                  0.00   \n",
            "22543                    0.03                  0.44   \n",
            "\n",
            "       dst_host_same_src_port_rate  dst_host_same_srv_rate  \\\n",
            "0                             0.00                    0.04   \n",
            "1                             0.00                    0.00   \n",
            "2                             0.61                    0.61   \n",
            "3                             1.00                    1.00   \n",
            "4                             0.03                    0.31   \n",
            "...                            ...                     ...   \n",
            "22539                         0.01                    0.72   \n",
            "22540                         0.01                    1.00   \n",
            "22541                         0.00                    1.00   \n",
            "22542                         0.00                    0.99   \n",
            "22543                         0.00                    0.08   \n",
            "\n",
            "       dst_host_serror_rate  dst_host_srv_count  ...  logged_in  \\\n",
            "0                      0.00                  10  ...          0   \n",
            "1                      0.00                   1  ...          0   \n",
            "2                      0.00                  86  ...          0   \n",
            "3                      0.00                  57  ...          0   \n",
            "4                      0.00                  86  ...          0   \n",
            "...                     ...                 ...  ...        ...   \n",
            "22539                  0.01                 141  ...          1   \n",
            "22540                  0.01                 255  ...          1   \n",
            "22541                  0.00                 255  ...          1   \n",
            "22542                  0.00                 252  ...          0   \n",
            "22543                  0.00                  21  ...          0   \n",
            "\n",
            "       num_file_creations  num_root  protocol_type  rerror_rate  \\\n",
            "0                       0         0              1          1.0   \n",
            "1                       0         0              1          1.0   \n",
            "2                       0         0              1          0.0   \n",
            "3                       0         0              2          0.0   \n",
            "4                       0         0              1          1.0   \n",
            "...                   ...       ...            ...          ...   \n",
            "22539                   0         0              1          0.0   \n",
            "22540                   0         0              1          0.0   \n",
            "22541                   0         0              1          0.0   \n",
            "22542                   0         0              0          0.0   \n",
            "22543                   0         0              1          1.0   \n",
            "\n",
            "       same_srv_rate  src_bytes  srv_count  srv_diff_host_rate  wrong_fragment  \n",
            "0               0.04          0         10                0.00               0  \n",
            "1               0.01          0          1                0.00               0  \n",
            "2               1.00      12983          1                0.00               0  \n",
            "3               1.00         20         65                1.00               0  \n",
            "4               1.00          0          8                0.75               0  \n",
            "...              ...        ...        ...                 ...             ...  \n",
            "22539           1.00        794          1                0.00               0  \n",
            "22540           1.00        317         11                0.18               0  \n",
            "22541           1.00      54540         10                0.20               0  \n",
            "22542           1.00         42          6                0.33               0  \n",
            "22543           0.25          0         10                1.00               0  \n",
            "\n",
            "[22544 rows x 25 columns]\n"
          ]
        }
      ],
      "source": [
        "dtree = tree.DecisionTreeClassifier()\n",
        "rfe = RFE(estimator=dtree, n_features_to_select=25)\n",
        "rfe.fit(X, y)\n",
        "# summarize the selection of the attributes\n",
        "print(rfe.support_)\n",
        "print(\"Rank\")\n",
        "print(rfe.ranking_)\n",
        "print (\"Features sorted by their rank:\")\n",
        "print (sorted(zip(map(lambda x: round(x, 4), rfe.ranking_), names)))\n",
        "mm=sorted(zip(map(lambda x: round(x, 4), rfe.ranking_), names))\n",
        "print(mm)\n",
        "#cols=[mm[0][1],mm[1][1],mm[2][1],mm[3][1],mm[4][1],mm[5][1],mm[6][1],mm[7][1],mm[8][1],mm[9][1],mm[10][1],mm[11][1],mm[12][1],mm[13][1],mm[14][1],mm[15][1]]\n",
        "cols=[mm[0][1],mm[1][1],mm[2][1],mm[3][1],mm[4][1],mm[5][1],mm[6][1],mm[7][1],mm[8][1],mm[9][1],mm[10][1],mm[11][1],mm[12][1],mm[13][1],mm[14][1],mm[15][1],mm[16][1],mm[17][1],mm[18][1],mm[19][1],mm[20][1],mm[21][1],mm[22][1],mm[23][1],mm[24][1]]\n",
        "print(cols)\n",
        "print(df[cols])\n",
        "X=df[cols]\n"
      ]
    },
    {
      "cell_type": "markdown",
      "metadata": {
        "id": "nqYF1JZIBMVA"
      },
      "source": [
        "# Apply Standard Scalar"
      ]
    },
    {
      "cell_type": "code",
      "execution_count": 6,
      "metadata": {
        "id": "U5hJ0zqKBMVA"
      },
      "outputs": [],
      "source": [
        "X_train, X_test, y_train, y_test = train_test_split(X, y, test_size=0.05, random_state=42)\n",
        "\n",
        "\n",
        "\n",
        "sc = StandardScaler()\n",
        "X_train = sc.fit_transform(X_train)\n",
        "X_test = sc.fit_transform(X_test)\n"
      ]
    },
    {
      "cell_type": "markdown",
      "metadata": {
        "id": "4fYZi025BMVA"
      },
      "source": [
        "# Feature reseduction through PCA"
      ]
    },
    {
      "cell_type": "code",
      "execution_count": 7,
      "metadata": {
        "colab": {
          "base_uri": "https://localhost:8080/"
        },
        "id": "2WiOcQlxBMVA",
        "outputId": "a92bcdaf-d55e-46f2-d176-21c02a13086f"
      },
      "outputs": [
        {
          "output_type": "stream",
          "name": "stdout",
          "text": [
            "[[-2.45434283  0.0375113  -0.45039617  1.10379276 -0.91758617]\n",
            " [-1.80556103  1.54089792 -0.59270297  3.20507985 -1.24780065]\n",
            " [ 2.50172666 -1.07045383  1.13389436 -0.40045348  0.16710276]\n",
            " ...\n",
            " [-3.01993652 -1.81603314  1.12904181 -0.61602555  1.30313758]\n",
            " [ 0.63877917 -0.58503105 -0.56581237  1.00307522 -0.21146657]\n",
            " [-6.33794289  0.82072996  0.72504929 -0.57299931  2.68842018]]\n"
          ]
        }
      ],
      "source": [
        "# Set the n_components=3\n",
        "principal=PCA(n_components=5)\n",
        "X_train=principal.fit_transform(X_train)\n",
        "X_test=principal.fit_transform(X_test)\n",
        "\n",
        "# Check the dimensions of data after PCA\n",
        "print(X_train)\n"
      ]
    },
    {
      "cell_type": "markdown",
      "metadata": {
        "id": "kMGFnUb6BMVA"
      },
      "source": [
        "# Build Deep Learning Mode"
      ]
    },
    {
      "cell_type": "code",
      "execution_count": 8,
      "metadata": {
        "colab": {
          "base_uri": "https://localhost:8080/",
          "height": 1000
        },
        "id": "8nHV6bxvBMVA",
        "outputId": "c51940ca-327e-4b03-c78a-a84ff10ae98b"
      },
      "outputs": [
        {
          "output_type": "stream",
          "name": "stderr",
          "text": [
            "/usr/local/lib/python3.10/dist-packages/keras/src/layers/core/dense.py:87: UserWarning: Do not pass an `input_shape`/`input_dim` argument to a layer. When using Sequential models, prefer using an `Input(shape)` object as the first layer in the model instead.\n",
            "  super().__init__(activity_regularizer=activity_regularizer, **kwargs)\n"
          ]
        },
        {
          "output_type": "stream",
          "name": "stdout",
          "text": [
            "Epoch 1/20\n",
            "\u001b[1m2142/2142\u001b[0m \u001b[32m━━━━━━━━━━━━━━━━━━━━\u001b[0m\u001b[37m\u001b[0m \u001b[1m6s\u001b[0m 2ms/step - accuracy: 0.8685 - loss: 0.3753 - val_accuracy: 0.7677 - val_loss: 0.8907\n",
            "Epoch 2/20\n",
            "\u001b[1m2142/2142\u001b[0m \u001b[32m━━━━━━━━━━━━━━━━━━━━\u001b[0m\u001b[37m\u001b[0m \u001b[1m4s\u001b[0m 2ms/step - accuracy: 0.8978 - loss: 0.2274 - val_accuracy: 0.7589 - val_loss: 1.1770\n",
            "Epoch 3/20\n",
            "\u001b[1m2142/2142\u001b[0m \u001b[32m━━━━━━━━━━━━━━━━━━━━\u001b[0m\u001b[37m\u001b[0m \u001b[1m4s\u001b[0m 2ms/step - accuracy: 0.8975 - loss: 0.2193 - val_accuracy: 0.7668 - val_loss: 1.2258\n",
            "Epoch 4/20\n",
            "\u001b[1m2142/2142\u001b[0m \u001b[32m━━━━━━━━━━━━━━━━━━━━\u001b[0m\u001b[37m\u001b[0m \u001b[1m6s\u001b[0m 2ms/step - accuracy: 0.9078 - loss: 0.2072 - val_accuracy: 0.7730 - val_loss: 1.3058\n",
            "Epoch 5/20\n",
            "\u001b[1m2142/2142\u001b[0m \u001b[32m━━━━━━━━━━━━━━━━━━━━\u001b[0m\u001b[37m\u001b[0m \u001b[1m4s\u001b[0m 2ms/step - accuracy: 0.9047 - loss: 0.2090 - val_accuracy: 0.7704 - val_loss: 1.2942\n",
            "Epoch 6/20\n",
            "\u001b[1m2142/2142\u001b[0m \u001b[32m━━━━━━━━━━━━━━━━━━━━\u001b[0m\u001b[37m\u001b[0m \u001b[1m5s\u001b[0m 2ms/step - accuracy: 0.9065 - loss: 0.2119 - val_accuracy: 0.7695 - val_loss: 1.4104\n",
            "Epoch 7/20\n",
            "\u001b[1m2142/2142\u001b[0m \u001b[32m━━━━━━━━━━━━━━━━━━━━\u001b[0m\u001b[37m\u001b[0m \u001b[1m5s\u001b[0m 2ms/step - accuracy: 0.9099 - loss: 0.2070 - val_accuracy: 0.7713 - val_loss: 1.3405\n",
            "Epoch 8/20\n",
            "\u001b[1m2142/2142\u001b[0m \u001b[32m━━━━━━━━━━━━━━━━━━━━\u001b[0m\u001b[37m\u001b[0m \u001b[1m3s\u001b[0m 2ms/step - accuracy: 0.9126 - loss: 0.1997 - val_accuracy: 0.7722 - val_loss: 1.3013\n",
            "Epoch 9/20\n",
            "\u001b[1m2142/2142\u001b[0m \u001b[32m━━━━━━━━━━━━━━━━━━━━\u001b[0m\u001b[37m\u001b[0m \u001b[1m4s\u001b[0m 2ms/step - accuracy: 0.9084 - loss: 0.2085 - val_accuracy: 0.7651 - val_loss: 1.4022\n",
            "Epoch 10/20\n",
            "\u001b[1m2142/2142\u001b[0m \u001b[32m━━━━━━━━━━━━━━━━━━━━\u001b[0m\u001b[37m\u001b[0m \u001b[1m7s\u001b[0m 2ms/step - accuracy: 0.9102 - loss: 0.2082 - val_accuracy: 0.7438 - val_loss: 1.3624\n",
            "Epoch 11/20\n",
            "\u001b[1m2142/2142\u001b[0m \u001b[32m━━━━━━━━━━━━━━━━━━━━\u001b[0m\u001b[37m\u001b[0m \u001b[1m4s\u001b[0m 2ms/step - accuracy: 0.9086 - loss: 0.2025 - val_accuracy: 0.7332 - val_loss: 1.3908\n",
            "Epoch 12/20\n",
            "\u001b[1m2142/2142\u001b[0m \u001b[32m━━━━━━━━━━━━━━━━━━━━\u001b[0m\u001b[37m\u001b[0m \u001b[1m5s\u001b[0m 2ms/step - accuracy: 0.9125 - loss: 0.2008 - val_accuracy: 0.7500 - val_loss: 1.3931\n",
            "Epoch 13/20\n",
            "\u001b[1m2142/2142\u001b[0m \u001b[32m━━━━━━━━━━━━━━━━━━━━\u001b[0m\u001b[37m\u001b[0m \u001b[1m5s\u001b[0m 2ms/step - accuracy: 0.9131 - loss: 0.2030 - val_accuracy: 0.7456 - val_loss: 1.2516\n",
            "Epoch 14/20\n",
            "\u001b[1m2142/2142\u001b[0m \u001b[32m━━━━━━━━━━━━━━━━━━━━\u001b[0m\u001b[37m\u001b[0m \u001b[1m4s\u001b[0m 2ms/step - accuracy: 0.9153 - loss: 0.1931 - val_accuracy: 0.7456 - val_loss: 1.0143\n",
            "Epoch 15/20\n",
            "\u001b[1m2142/2142\u001b[0m \u001b[32m━━━━━━━━━━━━━━━━━━━━\u001b[0m\u001b[37m\u001b[0m \u001b[1m6s\u001b[0m 2ms/step - accuracy: 0.9187 - loss: 0.1948 - val_accuracy: 0.7615 - val_loss: 1.1937\n",
            "Epoch 16/20\n",
            "\u001b[1m2142/2142\u001b[0m \u001b[32m━━━━━━━━━━━━━━━━━━━━\u001b[0m\u001b[37m\u001b[0m \u001b[1m5s\u001b[0m 2ms/step - accuracy: 0.9181 - loss: 0.1984 - val_accuracy: 0.7651 - val_loss: 1.0067\n",
            "Epoch 17/20\n",
            "\u001b[1m2142/2142\u001b[0m \u001b[32m━━━━━━━━━━━━━━━━━━━━\u001b[0m\u001b[37m\u001b[0m \u001b[1m5s\u001b[0m 2ms/step - accuracy: 0.9170 - loss: 0.1915 - val_accuracy: 0.7553 - val_loss: 1.0266\n",
            "Epoch 18/20\n",
            "\u001b[1m2142/2142\u001b[0m \u001b[32m━━━━━━━━━━━━━━━━━━━━\u001b[0m\u001b[37m\u001b[0m \u001b[1m3s\u001b[0m 2ms/step - accuracy: 0.9180 - loss: 0.1874 - val_accuracy: 0.7500 - val_loss: 1.0140\n",
            "Epoch 19/20\n",
            "\u001b[1m2142/2142\u001b[0m \u001b[32m━━━━━━━━━━━━━━━━━━━━\u001b[0m\u001b[37m\u001b[0m \u001b[1m6s\u001b[0m 2ms/step - accuracy: 0.9192 - loss: 0.1953 - val_accuracy: 0.7535 - val_loss: 0.8544\n",
            "Epoch 20/20\n",
            "\u001b[1m2142/2142\u001b[0m \u001b[32m━━━━━━━━━━━━━━━━━━━━\u001b[0m\u001b[37m\u001b[0m \u001b[1m4s\u001b[0m 2ms/step - accuracy: 0.9245 - loss: 0.1884 - val_accuracy: 0.7642 - val_loss: 0.7180\n"
          ]
        },
        {
          "output_type": "display_data",
          "data": {
            "text/plain": [
              "<Figure size 640x480 with 1 Axes>"
            ],
            "image/png": "[encoded data removed]"
          },
          "metadata": {}
        },
        {
          "output_type": "display_data",
          "data": {
            "text/plain": [
              "<Figure size 640x480 with 1 Axes>"
            ],
            "image/png": "[encoded data removed]"
          },
          "metadata": {}
        },
        {
          "output_type": "stream",
          "name": "stdout",
          "text": [
            "\u001b[1m36/36\u001b[0m \u001b[32m━━━━━━━━━━━━━━━━━━━━\u001b[0m\u001b[37m\u001b[0m \u001b[1m0s\u001b[0m 2ms/step\n"
          ]
        }
      ],
      "source": [
        "model= Sequential()\n",
        "\n",
        "model.add(Dense(16, kernel_initializer='uniform', activation='relu', input_dim=5))\n",
        "model.add(Dense(14, kernel_initializer='uniform', activation='relu'))\n",
        "model.add(Dense(1, activation=\"sigmoid\"))\n",
        "model.compile(optimizer='rmsprop', loss='binary_crossentropy', metrics=['accuracy'])\n",
        "hist=model.fit(X_train,y_train, epochs=20,batch_size=10,validation_data=(X_test, y_test))\n",
        "\n",
        "#train and validation loss\n",
        "plt.plot(hist.history['loss'])\n",
        "plt.plot(hist.history['val_loss'])\n",
        "plt.title('Model Loss')\n",
        "plt.ylabel('Loss')\n",
        "plt.xlabel('Epoch')\n",
        "plt.legend(['train','Validation'],loc='upper left')\n",
        "plt.pause(5)\n",
        "plt.show(block=False)\n",
        "plt.close()\n",
        "\n",
        "#train and validation accuracy\n",
        "plt.plot(hist.history['accuracy'])\n",
        "plt.plot(hist.history['val_accuracy'])\n",
        "plt.title('Model Accuracy')\n",
        "plt.ylabel('Accuracy')\n",
        "plt.xlabel('Epoch')\n",
        "plt.legend(['train','Validation'],loc='upper left')\n",
        "plt.pause(5)\n",
        "plt.show(block=False)\n",
        "plt.close()\n",
        "\n",
        "\n",
        "y_pred=model.predict(X_test)\n",
        "y_pred = [np.argmax(x) for x in y_pred]\n"
      ]
    },
    {
      "cell_type": "code",
      "source": [
        "from keras.callbacks import EarlyStopping\n",
        "\n",
        "# Define your model\n",
        "model = Sequential()\n",
        "\n",
        "model.add(Dense(16, kernel_initializer='uniform', activation='relu', input_dim=5))\n",
        "model.add(Dense(14, kernel_initializer='uniform', activation='relu'))\n",
        "model.add(Dense(1, activation=\"sigmoid\"))\n",
        "\n",
        "# Compile the model\n",
        "model.compile(optimizer='rmsprop', loss='binary_crossentropy', metrics=['accuracy'])\n",
        "\n",
        "# Initialize EarlyStopping callback\n",
        "early_stopping = EarlyStopping(monitor='val_loss', patience=5, restore_best_weights=True)\n",
        "\n",
        "# Train the model with EarlyStopping\n",
        "hist = model.fit(X_train, y_train, epochs=20, batch_size=10, validation_data=(X_test, y_test), callbacks=[early_stopping])\n",
        "\n",
        "# Continue with your plotting code after training is complete\n",
        "plt.plot(hist.history['loss'])\n",
        "plt.plot(hist.history['val_loss'])\n",
        "plt.title('Model Loss')\n",
        "plt.ylabel('Loss')\n",
        "plt.xlabel('Epoch')\n",
        "plt.legend(['train','Validation'],loc='upper left')\n",
        "\n",
        "plt.pause(5)\n",
        "plt.show(block=False)\n",
        "plt.close()\n",
        "\n",
        "#train and validation accuracy\n",
        "plt.plot(hist.history['accuracy'])\n",
        "plt.plot(hist.history['val_accuracy'])\n",
        "plt.title('Model Accuracy')\n",
        "plt.ylabel('Accuracy')\n",
        "plt.xlabel('Epoch')\n",
        "plt.legend(['train','Validation'],loc='upper left')\n",
        "\n",
        "plt.pause(5)\n",
        "plt.show(block=False)\n",
        "plt.close()\n",
        "\n",
        "\n",
        "y_pred=model.predict(X_test)\n",
        "y_pred = [np.argmax(x) for x in y_pred]\n",
        "\n"
      ],
      "metadata": {
        "colab": {
          "base_uri": "https://localhost:8080/",
          "height": 1000
        },
        "id": "5U8JSrhrEZJR",
        "outputId": "20e4e681-415a-4e96-970b-6f28abb8640f"
      },
      "execution_count": 9,
      "outputs": [
        {
          "output_type": "stream",
          "name": "stdout",
          "text": [
            "Epoch 1/20\n",
            "\u001b[1m2142/2142\u001b[0m \u001b[32m━━━━━━━━━━━━━━━━━━━━\u001b[0m\u001b[37m\u001b[0m \u001b[1m6s\u001b[0m 2ms/step - accuracy: 0.8607 - loss: 0.3696 - val_accuracy: 0.7668 - val_loss: 0.6617\n",
            "Epoch 2/20\n",
            "\u001b[1m2142/2142\u001b[0m \u001b[32m━━━━━━━━━━━━━━━━━━━━\u001b[0m\u001b[37m\u001b[0m \u001b[1m9s\u001b[0m 2ms/step - accuracy: 0.8902 - loss: 0.2444 - val_accuracy: 0.7553 - val_loss: 0.7342\n",
            "Epoch 3/20\n",
            "\u001b[1m2142/2142\u001b[0m \u001b[32m━━━━━━━━━━━━━━━━━━━━\u001b[0m\u001b[37m\u001b[0m \u001b[1m5s\u001b[0m 2ms/step - accuracy: 0.9004 - loss: 0.2259 - val_accuracy: 0.7190 - val_loss: 0.8107\n",
            "Epoch 4/20\n",
            "\u001b[1m2142/2142\u001b[0m \u001b[32m━━━━━━━━━━━━━━━━━━━━\u001b[0m\u001b[37m\u001b[0m \u001b[1m4s\u001b[0m 2ms/step - accuracy: 0.9046 - loss: 0.2234 - val_accuracy: 0.7199 - val_loss: 0.8046\n",
            "Epoch 5/20\n",
            "\u001b[1m2142/2142\u001b[0m \u001b[32m━━━━━━━━━━━━━━━━━━━━\u001b[0m\u001b[37m\u001b[0m \u001b[1m5s\u001b[0m 2ms/step - accuracy: 0.9083 - loss: 0.2121 - val_accuracy: 0.7154 - val_loss: 0.7995\n",
            "Epoch 6/20\n",
            "\u001b[1m2142/2142\u001b[0m \u001b[32m━━━━━━━━━━━━━━━━━━━━\u001b[0m\u001b[37m\u001b[0m \u001b[1m9s\u001b[0m 2ms/step - accuracy: 0.9099 - loss: 0.2052 - val_accuracy: 0.7225 - val_loss: 0.8016\n"
          ]
        },
        {
          "output_type": "display_data",
          "data": {
            "text/plain": [
              "<Figure size 640x480 with 1 Axes>"
            ],
            "image/png": "[encoded data removed]"
          },
          "metadata": {}
        },
        {
          "output_type": "display_data",
          "data": {
            "text/plain": [
              "<Figure size 640x480 with 1 Axes>"
            ],
            "image/png": "[encoded data removed]"
          },
          "metadata": {}
        },
        {
          "output_type": "stream",
          "name": "stdout",
          "text": [
            "\u001b[1m36/36\u001b[0m \u001b[32m━━━━━━━━━━━━━━━━━━━━\u001b[0m\u001b[37m\u001b[0m \u001b[1m0s\u001b[0m 2ms/step\n"
          ]
        }
      ]
    },
    {
      "cell_type": "markdown",
      "metadata": {
        "id": "AZ-rgckPBMVB"
      },
      "source": [
        "# Metrics computation"
      ]
    },
    {
      "cell_type": "code",
      "execution_count": 10,
      "metadata": {
        "colab": {
          "base_uri": "https://localhost:8080/"
        },
        "id": "Y9BzT32cBMVB",
        "outputId": "3f781622-5414-40a8-9bb9-2029f90599e7"
      },
      "outputs": [
        {
          "output_type": "stream",
          "name": "stdout",
          "text": [
            "MSE VALUE FOR DNN IS 0.570035 \n",
            "MAE VALUE FOR DNN IS 0.570035 \n",
            "R-SQUARED VALUE FOR DNN IS -1.325773 \n",
            "RMSE VALUE FOR DNN IS 0.755007 \n"
          ]
        }
      ],
      "source": [
        "mse=mean_squared_error(y_test, y_pred)\n",
        "mae=mean_absolute_error(y_test, y_pred)\n",
        "r2=r2_score(y_test, y_pred)\n",
        "print(\"MSE VALUE FOR DNN IS %f \"  % mse)\n",
        "print(\"MAE VALUE FOR DNN IS %f \"  % mae)\n",
        "print(\"R-SQUARED VALUE FOR DNN IS %f \"  % r2)\n",
        "rms = np.sqrt(mean_squared_error(y_test, y_pred))\n",
        "print(\"RMSE VALUE FOR DNN IS %f \"  % rms)\n"
      ]
    }
  ],
  "metadata": {
    "kernelspec": {
      "display_name": "Python 3",
      "language": "python",
      "name": "python3"
    },
    "language_info": {
      "codemirror_mode": {
        "name": "ipython",
        "version": 3
      },
      "file_extension": ".py",
      "mimetype": "text/x-python",
      "name": "python",
      "nbconvert_exporter": "python",
      "pygments_lexer": "ipython3",
      "version": "3.6.13"
    },
    "colab": {
      "provenance": []
    }
  },
  "nbformat": 4,
  "nbformat_minor": 0
}