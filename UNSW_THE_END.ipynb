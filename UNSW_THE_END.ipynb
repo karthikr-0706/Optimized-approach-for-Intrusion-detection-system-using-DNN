{
  "cells": [
    {
      "cell_type": "markdown",
      "metadata": {
        "id": "w1fcFjGOI6CP"
      },
      "source": [
        "# Import Libraries"
      ]
    },
    {
      "cell_type": "code",
      "execution_count": 1,
      "metadata": {
        "id": "FBE80ASOI6CR"
      },
      "outputs": [],
      "source": [
        "# import all libraries\n",
        "import pandas as pd\n",
        "import numpy as np\n",
        "import matplotlib.pyplot as plt\n",
        "from sklearn.decomposition import PCA\n",
        "from sklearn.preprocessing import StandardScaler\n",
        "from sklearn.tree import DecisionTreeClassifier\n",
        "from sklearn import tree\n",
        "from sklearn.feature_selection import RFE\n",
        "from sklearn.model_selection import train_test_split\n",
        "from sklearn.metrics import accuracy_score\n",
        "from sklearn.metrics import mean_squared_error\n",
        "from sklearn.metrics import mean_absolute_error\n",
        "from sklearn.metrics import r2_score\n",
        "from keras.preprocessing import sequence\n",
        "from keras.models import Sequential\n",
        "from keras.layers import Dense, Dropout, Activation, Embedding\n",
        "from keras.layers import LSTM, SimpleRNN, GRU\n"
      ]
    },
    {
      "cell_type": "markdown",
      "metadata": {
        "id": "jsyBHV3II6CR"
      },
      "source": [
        "# Read Dataset -UNSW"
      ]
    },
    {
      "cell_type": "code",
      "execution_count": 2,
      "metadata": {
        "colab": {
          "base_uri": "https://localhost:8080/"
        },
        "id": "xCjAzOTTI6CS",
        "outputId": "ed8d6f2b-aabb-407f-c4d2-d78880bf0b8c"
      },
      "outputs": [
        {
          "output_type": "stream",
          "name": "stdout",
          "text": [
            "          id       dur  spkts  dpkts  sbytes  dbytes           rate  sttl  \\\n",
            "0          1  0.000011      2      0     496       0   90909.090200   254   \n",
            "1          2  0.000008      2      0    1762       0  125000.000300   254   \n",
            "2          3  0.000005      2      0    1068       0  200000.005100   254   \n",
            "3          4  0.000006      2      0     900       0  166666.660800   254   \n",
            "4          5  0.000010      2      0    2126       0  100000.002500   254   \n",
            "...      ...       ...    ...    ...     ...     ...            ...   ...   \n",
            "82327  82328  0.000005      2      0     104       0  200000.005100   254   \n",
            "82328  82329  1.106101     20      8   18062     354      24.410067   254   \n",
            "82329  82330  0.000000      1      0      46       0       0.000000     0   \n",
            "82330  82331  0.000000      1      0      46       0       0.000000     0   \n",
            "82331  82332  0.000009      2      0     104       0  111111.107200   254   \n",
            "\n",
            "       dttl         sload  ...  ct_src_dport_ltm  ct_dst_sport_ltm  \\\n",
            "0         0  1.803636e+08  ...                 1                 1   \n",
            "1         0  8.810000e+08  ...                 1                 1   \n",
            "2         0  8.544000e+08  ...                 1                 1   \n",
            "3         0  6.000000e+08  ...                 2                 1   \n",
            "4         0  8.504000e+08  ...                 2                 1   \n",
            "...     ...           ...  ...               ...               ...   \n",
            "82327     0  8.320000e+07  ...                 1                 1   \n",
            "82328   252  1.241044e+05  ...                 1                 1   \n",
            "82329     0  0.000000e+00  ...                 1                 1   \n",
            "82330     0  0.000000e+00  ...                 1                 1   \n",
            "82331     0  4.622222e+07  ...                 1                 1   \n",
            "\n",
            "       ct_dst_src_ltm  is_ftp_login  ct_ftp_cmd  ct_flw_http_mthd  ct_src_ltm  \\\n",
            "0                   2             0           0                 0           1   \n",
            "1                   2             0           0                 0           1   \n",
            "2                   3             0           0                 0           1   \n",
            "3                   3             0           0                 0           2   \n",
            "4                   3             0           0                 0           2   \n",
            "...               ...           ...         ...               ...         ...   \n",
            "82327               2             0           0                 0           2   \n",
            "82328               1             0           0                 0           3   \n",
            "82329               1             0           0                 0           1   \n",
            "82330               1             0           0                 0           1   \n",
            "82331               1             0           0                 0           1   \n",
            "\n",
            "       ct_srv_dst  is_sm_ips_ports  label  \n",
            "0               2                0      0  \n",
            "1               2                0      0  \n",
            "2               3                0      0  \n",
            "3               3                0      0  \n",
            "4               3                0      0  \n",
            "...           ...              ...    ...  \n",
            "82327           1                0      0  \n",
            "82328           2                0      0  \n",
            "82329           1                1      0  \n",
            "82330           1                1      0  \n",
            "82331           1                0      0  \n",
            "\n",
            "[82332 rows x 41 columns]\n",
            "          id       dur  spkts  dpkts  sbytes  dbytes           rate  sttl  \\\n",
            "0          1  0.000011      2      0     496       0   90909.090200   254   \n",
            "1          2  0.000008      2      0    1762       0  125000.000300   254   \n",
            "2          3  0.000005      2      0    1068       0  200000.005100   254   \n",
            "3          4  0.000006      2      0     900       0  166666.660800   254   \n",
            "4          5  0.000010      2      0    2126       0  100000.002500   254   \n",
            "...      ...       ...    ...    ...     ...     ...            ...   ...   \n",
            "82327  82328  0.000005      2      0     104       0  200000.005100   254   \n",
            "82328  82329  1.106101     20      8   18062     354      24.410067   254   \n",
            "82329  82330  0.000000      1      0      46       0       0.000000     0   \n",
            "82330  82331  0.000000      1      0      46       0       0.000000     0   \n",
            "82331  82332  0.000009      2      0     104       0  111111.107200   254   \n",
            "\n",
            "       dttl         sload  ...  ct_dst_ltm  ct_src_dport_ltm  \\\n",
            "0         0  1.803636e+08  ...           1                 1   \n",
            "1         0  8.810000e+08  ...           1                 1   \n",
            "2         0  8.544000e+08  ...           1                 1   \n",
            "3         0  6.000000e+08  ...           2                 2   \n",
            "4         0  8.504000e+08  ...           2                 2   \n",
            "...     ...           ...  ...         ...               ...   \n",
            "82327     0  8.320000e+07  ...           2                 1   \n",
            "82328   252  1.241044e+05  ...           2                 1   \n",
            "82329     0  0.000000e+00  ...           1                 1   \n",
            "82330     0  0.000000e+00  ...           1                 1   \n",
            "82331     0  4.622222e+07  ...           1                 1   \n",
            "\n",
            "       ct_dst_sport_ltm  ct_dst_src_ltm  is_ftp_login  ct_ftp_cmd  \\\n",
            "0                     1               2             0           0   \n",
            "1                     1               2             0           0   \n",
            "2                     1               3             0           0   \n",
            "3                     1               3             0           0   \n",
            "4                     1               3             0           0   \n",
            "...                 ...             ...           ...         ...   \n",
            "82327                 1               2             0           0   \n",
            "82328                 1               1             0           0   \n",
            "82329                 1               1             0           0   \n",
            "82330                 1               1             0           0   \n",
            "82331                 1               1             0           0   \n",
            "\n",
            "       ct_flw_http_mthd  ct_src_ltm  ct_srv_dst  is_sm_ips_ports  \n",
            "0                     0           1           2                0  \n",
            "1                     0           1           2                0  \n",
            "2                     0           1           3                0  \n",
            "3                     0           2           3                0  \n",
            "4                     0           2           3                0  \n",
            "...                 ...         ...         ...              ...  \n",
            "82327                 0           2           1                0  \n",
            "82328                 0           3           2                0  \n",
            "82329                 0           1           1                1  \n",
            "82330                 0           1           1                1  \n",
            "82331                 0           1           1                0  \n",
            "\n",
            "[82332 rows x 40 columns]\n"
          ]
        }
      ],
      "source": [
        "df = pd.read_csv('UNSW_NB15_training-set.csv')\n",
        "df=df.drop(['proto','service','state','attack_cat'], axis=1)\n",
        "print(df)\n",
        "\n",
        "X=df.drop(columns=['label'])\n",
        "y=df['label']\n",
        "print(X)\n"
      ]
    },
    {
      "cell_type": "markdown",
      "metadata": {
        "id": "MB6YSQlYI6CS"
      },
      "source": [
        "# Feature selection technique"
      ]
    },
    {
      "cell_type": "code",
      "execution_count": 3,
      "metadata": {
        "colab": {
          "base_uri": "https://localhost:8080/"
        },
        "id": "9In-Y078I6CS",
        "outputId": "aefe5e94-d2f3-4923-af13-ce20d1dc2391"
      },
      "outputs": [
        {
          "output_type": "stream",
          "name": "stdout",
          "text": [
            "[ True False False False  True  True  True  True False  True  True  True\n",
            "  True  True  True False  True False False  True False  True  True  True\n",
            "  True  True False False False  True  True  True  True  True False False\n",
            "  True  True False False]\n",
            "Rank\n",
            "[ 1 10  8 11  1  1  1  1  4  1  1  1  1  1  1  2  1 12 13  1  9  1  1  1\n",
            "  1  1  5  7  6  1  1  1  1  1  3 15  1  1 14 16]\n",
            "Features sorted by their rank:\n",
            "[(1, 'ackdat'), (1, 'ct_dst_ltm'), (1, 'ct_dst_sport_ltm'), (1, 'ct_dst_src_ltm'), (1, 'ct_flw_http_mthd'), (1, 'ct_src_dport_ltm'), (1, 'ct_src_ltm'), (1, 'ct_state_ttl'), (1, 'dbytes'), (1, 'dinpkt'), (1, 'djit'), (1, 'dload'), (1, 'dloss'), (1, 'dmean'), (1, 'dtcpb'), (1, 'id'), (1, 'rate'), (1, 'sbytes'), (1, 'sinpkt'), (1, 'sload'), (1, 'sloss'), (1, 'smean'), (1, 'sttl'), (1, 'synack'), (1, 'tcprtt'), (2, 'sjit'), (3, 'is_ftp_login'), (4, 'dttl'), (5, 'trans_depth'), (6, 'ct_srv_src'), (7, 'response_body_len'), (8, 'spkts'), (9, 'dwin'), (10, 'dur'), (11, 'dpkts'), (12, 'swin'), (13, 'stcpb'), (14, 'ct_srv_dst'), (15, 'ct_ftp_cmd'), (16, 'is_sm_ips_ports')]\n",
            "[(1, 'ackdat'), (1, 'ct_dst_ltm'), (1, 'ct_dst_sport_ltm'), (1, 'ct_dst_src_ltm'), (1, 'ct_flw_http_mthd'), (1, 'ct_src_dport_ltm'), (1, 'ct_src_ltm'), (1, 'ct_state_ttl'), (1, 'dbytes'), (1, 'dinpkt'), (1, 'djit'), (1, 'dload'), (1, 'dloss'), (1, 'dmean'), (1, 'dtcpb'), (1, 'id'), (1, 'rate'), (1, 'sbytes'), (1, 'sinpkt'), (1, 'sload'), (1, 'sloss'), (1, 'smean'), (1, 'sttl'), (1, 'synack'), (1, 'tcprtt'), (2, 'sjit'), (3, 'is_ftp_login'), (4, 'dttl'), (5, 'trans_depth'), (6, 'ct_srv_src'), (7, 'response_body_len'), (8, 'spkts'), (9, 'dwin'), (10, 'dur'), (11, 'dpkts'), (12, 'swin'), (13, 'stcpb'), (14, 'ct_srv_dst'), (15, 'ct_ftp_cmd'), (16, 'is_sm_ips_ports')]\n",
            "['ackdat', 'ct_dst_ltm', 'ct_dst_sport_ltm', 'ct_dst_src_ltm', 'ct_flw_http_mthd', 'ct_src_dport_ltm', 'ct_src_ltm', 'ct_state_ttl', 'dbytes', 'dinpkt', 'djit', 'dload', 'dloss', 'dmean', 'dtcpb', 'id', 'rate', 'sbytes', 'sinpkt', 'sload', 'sloss', 'smean', 'sttl', 'synack', 'tcprtt']\n",
            "         ackdat  ct_dst_ltm  ct_dst_sport_ltm  ct_dst_src_ltm  \\\n",
            "0      0.000000           1                 1               2   \n",
            "1      0.000000           1                 1               2   \n",
            "2      0.000000           1                 1               3   \n",
            "3      0.000000           2                 1               3   \n",
            "4      0.000000           2                 1               3   \n",
            "...         ...         ...               ...             ...   \n",
            "82327  0.000000           2                 1               2   \n",
            "82328  0.073017           2                 1               1   \n",
            "82329  0.000000           1                 1               1   \n",
            "82330  0.000000           1                 1               1   \n",
            "82331  0.000000           1                 1               1   \n",
            "\n",
            "       ct_flw_http_mthd  ct_src_dport_ltm  ct_src_ltm  ct_state_ttl  dbytes  \\\n",
            "0                     0                 1           1             2       0   \n",
            "1                     0                 1           1             2       0   \n",
            "2                     0                 1           1             2       0   \n",
            "3                     0                 2           2             2       0   \n",
            "4                     0                 2           2             2       0   \n",
            "...                 ...               ...         ...           ...     ...   \n",
            "82327                 0                 1           2             2       0   \n",
            "82328                 0                 1           3             1     354   \n",
            "82329                 0                 1           1             2       0   \n",
            "82330                 0                 1           1             2       0   \n",
            "82331                 0                 1           1             2       0   \n",
            "\n",
            "       dinpkt  ...     id           rate  sbytes        sinpkt         sload  \\\n",
            "0         0.0  ...      1   90909.090200     496      0.011000  1.803636e+08   \n",
            "1         0.0  ...      2  125000.000300    1762      0.008000  8.810000e+08   \n",
            "2         0.0  ...      3  200000.005100    1068      0.005000  8.544000e+08   \n",
            "3         0.0  ...      4  166666.660800     900      0.006000  6.000000e+08   \n",
            "4         0.0  ...      5  100000.002500    2126      0.010000  8.504000e+08   \n",
            "...       ...  ...    ...            ...     ...           ...           ...   \n",
            "82327     0.0  ...  82328  200000.005100     104      0.005000  8.320000e+07   \n",
            "82328   143.7  ...  82329      24.410067   18062     55.880051  1.241044e+05   \n",
            "82329     0.0  ...  82330       0.000000      46  60000.720000  0.000000e+00   \n",
            "82330     0.0  ...  82331       0.000000      46  60000.732000  0.000000e+00   \n",
            "82331     0.0  ...  82332  111111.107200     104      0.009000  4.622222e+07   \n",
            "\n",
            "       sloss  smean  sttl    synack    tcprtt  \n",
            "0          0    248   254  0.000000  0.000000  \n",
            "1          0    881   254  0.000000  0.000000  \n",
            "2          0    534   254  0.000000  0.000000  \n",
            "3          0    450   254  0.000000  0.000000  \n",
            "4          0   1063   254  0.000000  0.000000  \n",
            "...      ...    ...   ...       ...       ...  \n",
            "82327      0     52   254  0.000000  0.000000  \n",
            "82328      7    903   254  0.100191  0.173208  \n",
            "82329      0     46     0  0.000000  0.000000  \n",
            "82330      0     46     0  0.000000  0.000000  \n",
            "82331      0     52   254  0.000000  0.000000  \n",
            "\n",
            "[82332 rows x 25 columns]\n"
          ]
        }
      ],
      "source": [
        "names = df.head()\n",
        "dtree = tree.DecisionTreeClassifier()\n",
        "rfe = RFE(estimator=dtree, n_features_to_select=25)\n",
        "rfe.fit(X, y)\n",
        "# summarize the selection of the attributes\n",
        "print(rfe.support_)\n",
        "print(\"Rank\")\n",
        "print(rfe.ranking_)\n",
        "print (\"Features sorted by their rank:\")\n",
        "print (sorted(zip(map(lambda x: round(x, 4), rfe.ranking_), names)))\n",
        "mm=sorted(zip(map(lambda x: round(x, 4), rfe.ranking_), names))\n",
        "print(mm)\n",
        "#cols=[mm[0][1],mm[1][1],mm[2][1],mm[3][1],mm[4][1],mm[5][1],mm[6][1],mm[7][1],mm[8][1],mm[9][1],mm[10][1],mm[11][1],mm[12][1],mm[13][1],mm[14][1],mm[15][1]]\n",
        "cols=[mm[0][1],mm[1][1],mm[2][1],mm[3][1],mm[4][1],mm[5][1],mm[6][1],mm[7][1],mm[8][1],mm[9][1],mm[10][1],mm[11][1],mm[12][1],mm[13][1],mm[14][1],mm[15][1],mm[16][1],mm[17][1],mm[18][1],mm[19][1],mm[20][1],mm[21][1],mm[22][1],mm[23][1],mm[24][1]]\n",
        "\n",
        "print(cols)\n",
        "print(df[cols])\n",
        "X=df[cols]\n",
        "\n"
      ]
    },
    {
      "cell_type": "code",
      "execution_count": 4,
      "metadata": {
        "id": "qtPXBPy-I6CT"
      },
      "outputs": [],
      "source": [
        "X_train, X_test, y_train, y_test = train_test_split(X, y, test_size=0.2, random_state=42)\n"
      ]
    },
    {
      "cell_type": "markdown",
      "metadata": {
        "id": "MVWaLxwfI6CT"
      },
      "source": [
        "# Apply Standard scalar"
      ]
    },
    {
      "cell_type": "code",
      "execution_count": 5,
      "metadata": {
        "id": "lXZzgX2BI6CT"
      },
      "outputs": [],
      "source": [
        "sc = StandardScaler()\n",
        "X_train = sc.fit_transform(X_train)\n",
        "X_test = sc.fit_transform(X_test)\n"
      ]
    },
    {
      "cell_type": "markdown",
      "metadata": {
        "id": "86TDO-U-I6CT"
      },
      "source": [
        "# Apply feature reduction"
      ]
    },
    {
      "cell_type": "code",
      "execution_count": 6,
      "metadata": {
        "colab": {
          "base_uri": "https://localhost:8080/"
        },
        "id": "yzx48_F5I6CT",
        "outputId": "d928b39f-3505-481c-a63a-f65814d616aa"
      },
      "outputs": [
        {
          "output_type": "stream",
          "name": "stdout",
          "text": [
            "[[-1.79356408  0.91060704 -0.50412573  0.99209658 -0.83320205]\n",
            " [-1.55214881 -1.51548005 -0.61541275  2.76103252  0.33624783]\n",
            " [-2.48356224 -1.04195461  1.22913697 -0.312622   -0.303287  ]\n",
            " ...\n",
            " [-1.70206219 -1.56988488  0.44500063 -0.30889592  0.2549927 ]\n",
            " [-1.83628989 -0.84666817  1.23387501 -0.19514467 -0.50789751]\n",
            " [ 7.73816088  0.17283004  2.85483799  0.23755583 -0.50664999]]\n"
          ]
        }
      ],
      "source": [
        "# Set the n_components=5\n",
        "principal=PCA(n_components=5)\n",
        "X_train=principal.fit_transform(X_train)\n",
        "X_test=principal.fit_transform(X_test)\n",
        "\n",
        "# Check the dimensions of data after PCA\n",
        "print(X_train)\n"
      ]
    },
    {
      "cell_type": "markdown",
      "metadata": {
        "id": "cdoiVBGFI6CT"
      },
      "source": [
        "# Build DNN model"
      ]
    },
    {
      "cell_type": "code",
      "execution_count": 7,
      "metadata": {
        "colab": {
          "base_uri": "https://localhost:8080/",
          "height": 1000
        },
        "id": "JBfiC2I3I6CU",
        "outputId": "579cf734-ed20-411c-954b-a7aa022dfb04"
      },
      "outputs": [
        {
          "output_type": "stream",
          "name": "stdout",
          "text": [
            "Epoch 1/20\n"
          ]
        },
        {
          "output_type": "stream",
          "name": "stderr",
          "text": [
            "/usr/local/lib/python3.10/dist-packages/keras/src/layers/core/dense.py:87: UserWarning: Do not pass an `input_shape`/`input_dim` argument to a layer. When using Sequential models, prefer using an `Input(shape)` object as the first layer in the model instead.\n",
            "  super().__init__(activity_regularizer=activity_regularizer, **kwargs)\n"
          ]
        },
        {
          "output_type": "stream",
          "name": "stdout",
          "text": [
            "\u001b[1m6587/6587\u001b[0m \u001b[32m━━━━━━━━━━━━━━━━━━━━\u001b[0m\u001b[37m\u001b[0m \u001b[1m13s\u001b[0m 2ms/step - accuracy: 0.8302 - loss: 0.3829 - val_accuracy: 0.8806 - val_loss: 0.2788\n",
            "Epoch 2/20\n",
            "\u001b[1m6587/6587\u001b[0m \u001b[32m━━━━━━━━━━━━━━━━━━━━\u001b[0m\u001b[37m\u001b[0m \u001b[1m13s\u001b[0m 2ms/step - accuracy: 0.8900 - loss: 0.2672 - val_accuracy: 0.8878 - val_loss: 0.2477\n",
            "Epoch 3/20\n",
            "\u001b[1m6587/6587\u001b[0m \u001b[32m━━━━━━━━━━━━━━━━━━━━\u001b[0m\u001b[37m\u001b[0m \u001b[1m18s\u001b[0m 2ms/step - accuracy: 0.9021 - loss: 0.2322 - val_accuracy: 0.8949 - val_loss: 0.2476\n",
            "Epoch 4/20\n",
            "\u001b[1m6587/6587\u001b[0m \u001b[32m━━━━━━━━━━━━━━━━━━━━\u001b[0m\u001b[37m\u001b[0m \u001b[1m21s\u001b[0m 2ms/step - accuracy: 0.9052 - loss: 0.2325 - val_accuracy: 0.8999 - val_loss: 0.2319\n",
            "Epoch 5/20\n",
            "\u001b[1m6587/6587\u001b[0m \u001b[32m━━━━━━━━━━━━━━━━━━━━\u001b[0m\u001b[37m\u001b[0m \u001b[1m21s\u001b[0m 2ms/step - accuracy: 0.9084 - loss: 0.2254 - val_accuracy: 0.9066 - val_loss: 0.2296\n",
            "Epoch 6/20\n",
            "\u001b[1m6587/6587\u001b[0m \u001b[32m━━━━━━━━━━━━━━━━━━━━\u001b[0m\u001b[37m\u001b[0m \u001b[1m11s\u001b[0m 2ms/step - accuracy: 0.9093 - loss: 0.2264 - val_accuracy: 0.9058 - val_loss: 0.2322\n",
            "Epoch 7/20\n",
            "\u001b[1m6587/6587\u001b[0m \u001b[32m━━━━━━━━━━━━━━━━━━━━\u001b[0m\u001b[37m\u001b[0m \u001b[1m21s\u001b[0m 2ms/step - accuracy: 0.9103 - loss: 0.2331 - val_accuracy: 0.8982 - val_loss: 0.2488\n",
            "Epoch 8/20\n",
            "\u001b[1m6587/6587\u001b[0m \u001b[32m━━━━━━━━━━━━━━━━━━━━\u001b[0m\u001b[37m\u001b[0m \u001b[1m20s\u001b[0m 2ms/step - accuracy: 0.9108 - loss: 0.2253 - val_accuracy: 0.9030 - val_loss: 0.2461\n",
            "Epoch 9/20\n",
            "\u001b[1m6587/6587\u001b[0m \u001b[32m━━━━━━━━━━━━━━━━━━━━\u001b[0m\u001b[37m\u001b[0m \u001b[1m12s\u001b[0m 2ms/step - accuracy: 0.9109 - loss: 0.2333 - val_accuracy: 0.9078 - val_loss: 0.2254\n",
            "Epoch 10/20\n",
            "\u001b[1m6587/6587\u001b[0m \u001b[32m━━━━━━━━━━━━━━━━━━━━\u001b[0m\u001b[37m\u001b[0m \u001b[1m21s\u001b[0m 2ms/step - accuracy: 0.9113 - loss: 0.2194 - val_accuracy: 0.9083 - val_loss: 0.2166\n",
            "Epoch 11/20\n",
            "\u001b[1m6587/6587\u001b[0m \u001b[32m━━━━━━━━━━━━━━━━━━━━\u001b[0m\u001b[37m\u001b[0m \u001b[1m22s\u001b[0m 2ms/step - accuracy: 0.9124 - loss: 0.2144 - val_accuracy: 0.9087 - val_loss: 0.2214\n",
            "Epoch 12/20\n",
            "\u001b[1m6587/6587\u001b[0m \u001b[32m━━━━━━━━━━━━━━━━━━━━\u001b[0m\u001b[37m\u001b[0m \u001b[1m14s\u001b[0m 2ms/step - accuracy: 0.9135 - loss: 0.2134 - val_accuracy: 0.9033 - val_loss: 0.2304\n",
            "Epoch 13/20\n",
            "\u001b[1m6587/6587\u001b[0m \u001b[32m━━━━━━━━━━━━━━━━━━━━\u001b[0m\u001b[37m\u001b[0m \u001b[1m20s\u001b[0m 2ms/step - accuracy: 0.9097 - loss: 0.2197 - val_accuracy: 0.9040 - val_loss: 0.2508\n",
            "Epoch 14/20\n",
            "\u001b[1m6587/6587\u001b[0m \u001b[32m━━━━━━━━━━━━━━━━━━━━\u001b[0m\u001b[37m\u001b[0m \u001b[1m13s\u001b[0m 2ms/step - accuracy: 0.9120 - loss: 0.2185 - val_accuracy: 0.9062 - val_loss: 0.2208\n",
            "Epoch 15/20\n",
            "\u001b[1m6587/6587\u001b[0m \u001b[32m━━━━━━━━━━━━━━━━━━━━\u001b[0m\u001b[37m\u001b[0m \u001b[1m12s\u001b[0m 2ms/step - accuracy: 0.9139 - loss: 0.2102 - val_accuracy: 0.9082 - val_loss: 0.2212\n",
            "Epoch 16/20\n",
            "\u001b[1m6587/6587\u001b[0m \u001b[32m━━━━━━━━━━━━━━━━━━━━\u001b[0m\u001b[37m\u001b[0m \u001b[1m12s\u001b[0m 2ms/step - accuracy: 0.9140 - loss: 0.2132 - val_accuracy: 0.9086 - val_loss: 0.2305\n",
            "Epoch 17/20\n",
            "\u001b[1m6587/6587\u001b[0m \u001b[32m━━━━━━━━━━━━━━━━━━━━\u001b[0m\u001b[37m\u001b[0m \u001b[1m12s\u001b[0m 2ms/step - accuracy: 0.9137 - loss: 0.2069 - val_accuracy: 0.9095 - val_loss: 0.2300\n",
            "Epoch 18/20\n",
            "\u001b[1m6587/6587\u001b[0m \u001b[32m━━━━━━━━━━━━━━━━━━━━\u001b[0m\u001b[37m\u001b[0m \u001b[1m11s\u001b[0m 2ms/step - accuracy: 0.9114 - loss: 0.2131 - val_accuracy: 0.9060 - val_loss: 0.2246\n",
            "Epoch 19/20\n",
            "\u001b[1m6587/6587\u001b[0m \u001b[32m━━━━━━━━━━━━━━━━━━━━\u001b[0m\u001b[37m\u001b[0m \u001b[1m11s\u001b[0m 2ms/step - accuracy: 0.9147 - loss: 0.2087 - val_accuracy: 0.9110 - val_loss: 0.2140\n",
            "Epoch 20/20\n",
            "\u001b[1m6587/6587\u001b[0m \u001b[32m━━━━━━━━━━━━━━━━━━━━\u001b[0m\u001b[37m\u001b[0m \u001b[1m22s\u001b[0m 2ms/step - accuracy: 0.9135 - loss: 0.2072 - val_accuracy: 0.9096 - val_loss: 0.2239\n"
          ]
        },
        {
          "output_type": "display_data",
          "data": {
            "text/plain": [
              "<Figure size 640x480 with 1 Axes>"
            ],
            "image/png": "[encoded data removed]"
          },
          "metadata": {}
        },
        {
          "output_type": "display_data",
          "data": {
            "text/plain": [
              "<Figure size 640x480 with 1 Axes>"
            ],
            "image/png": "[encoded data removed]"
          },
          "metadata": {}
        },
        {
          "output_type": "stream",
          "name": "stdout",
          "text": [
            "\u001b[1m515/515\u001b[0m \u001b[32m━━━━━━━━━━━━━━━━━━━━\u001b[0m\u001b[37m\u001b[0m \u001b[1m1s\u001b[0m 1ms/step\n"
          ]
        }
      ],
      "source": [
        "model= Sequential()\n",
        "\n",
        "model.add(Dense(16, kernel_initializer='uniform', activation='relu', input_dim=5))\n",
        "model.add(Dense(14, kernel_initializer='uniform', activation='relu'))\n",
        "model.add(Dense(1, activation=\"sigmoid\"))\n",
        "model.compile(optimizer='rmsprop', loss='binary_crossentropy', metrics=['accuracy'])\n",
        "hist=model.fit(X_train,y_train, epochs=20,batch_size=10,validation_data=(X_test, y_test))\n",
        "\n",
        "#train and validation loss\n",
        "plt.plot(hist.history['loss'])\n",
        "plt.plot(hist.history['val_loss'])\n",
        "plt.title('Model Loss')\n",
        "plt.ylabel('Loss')\n",
        "plt.xlabel('Epoch')\n",
        "plt.legend(['train','Validation'],loc='upper left')\n",
        "\n",
        "plt.pause(5)\n",
        "plt.show(block=False)\n",
        "plt.close()\n",
        "\n",
        "#train and validation accuracy\n",
        "plt.plot(hist.history['accuracy'])\n",
        "plt.plot(hist.history['val_accuracy'])\n",
        "plt.title('Model Accuracy')\n",
        "plt.ylabel('Accuracy')\n",
        "plt.xlabel('Epoch')\n",
        "plt.legend(['train','Validation'],loc='upper left')\n",
        "\n",
        "plt.pause(5)\n",
        "plt.show(block=False)\n",
        "plt.close()\n",
        "\n",
        "\n",
        "y_pred=model.predict(X_test)\n",
        "y_pred = [np.argmax(x) for x in y_pred]\n"
      ]
    },
    {
      "cell_type": "code",
      "execution_count": 8,
      "metadata": {
        "colab": {
          "base_uri": "https://localhost:8080/"
        },
        "id": "23gddYl9I6CU",
        "outputId": "f880992b-9046-4d87-e690-9448222ae6b6"
      },
      "outputs": [
        {
          "output_type": "stream",
          "name": "stdout",
          "text": [
            "MSE VALUE FOR DNN IS 0.549523 \n",
            "MAE VALUE FOR DNN IS 0.549523 \n",
            "R-SQUARED VALUE FOR DNN IS -1.219871 \n",
            "RMSE VALUE FOR DNN IS 0.741298 \n"
          ]
        }
      ],
      "source": [
        "mse=mean_squared_error(y_test, y_pred)\n",
        "mae=mean_absolute_error(y_test, y_pred)\n",
        "r2=r2_score(y_test, y_pred)\n",
        "print(\"MSE VALUE FOR DNN IS %f \"  % mse)\n",
        "print(\"MAE VALUE FOR DNN IS %f \"  % mae)\n",
        "print(\"R-SQUARED VALUE FOR DNN IS %f \"  % r2)\n",
        "rms = np.sqrt(mean_squared_error(y_test, y_pred))\n",
        "print(\"RMSE VALUE FOR DNN IS %f \"  % rms)\n"
      ]
    },
    {
      "cell_type": "code",
      "execution_count": 8,
      "metadata": {
        "id": "BeVcs9b7I6CU"
      },
      "outputs": [],
      "source": []
    }
  ],
  "metadata": {
    "kernelspec": {
      "display_name": "Python 3",
      "language": "python",
      "name": "python3"
    },
    "language_info": {
      "codemirror_mode": {
        "name": "ipython",
        "version": 3
      },
      "file_extension": ".py",
      "mimetype": "text/x-python",
      "name": "python",
      "nbconvert_exporter": "python",
      "pygments_lexer": "ipython3",
      "version": "3.6.13"
    },
    "colab": {
      "provenance": []
    }
  },
  "nbformat": 4,
  "nbformat_minor": 0
}